{
 "cells": [
  {
   "cell_type": "code",
   "execution_count": 21,
   "metadata": {},
   "outputs": [],
   "source": [
    "import time\n",
    "from datetime import datetime, timedelta\n",
    "import os\n",
    "\n",
    "from Utils.class_files import Chatbot, Utils\n",
    "\n",
    "from googletrans import Translator\n",
    "translator = Translator()\n",
    "\n",
    "from selenium.webdriver.common.by import By\n",
    "from selenium.webdriver.common.keys import Keys"
   ]
  },
  {
   "cell_type": "code",
   "execution_count": 22,
   "metadata": {},
   "outputs": [],
   "source": [
    "#browser + utils\n",
    "utils = Utils(language='pt', profile_name='Profile 4')\n",
    "\n",
    "#Chatbot\n",
    "chatBotClass = Chatbot(botIdName = ''\n",
    "                 ,botName = 'Hinata Hyuga'\n",
    "                 ,fileName = 'hinata.txt'\n",
    "                 ,streamId= ''\n",
    "                 ,pronouns = 'feminino'\n",
    "                 ,mainUser = 'user'\n",
    "                 ,email = ''\n",
    "                 ,first_use = True\n",
    "                 ,password = ''\n",
    "                 ,utils_class = utils)\n",
    "context = chatBotClass.get_context_prompt()"
   ]
  },
  {
   "cell_type": "code",
   "execution_count": 23,
   "metadata": {},
   "outputs": [
    {
     "name": "stdout",
     "output_type": "stream",
     "text": [
      "Online!\n",
      "\n",
      "17:56 | odeiomodernismo: oi @HinataBot1 ! me fale sobre você\n",
      "      | Bot:  Olá! Sou Hinata Hyuga, uma mulher gentil e determinada da Vila Oculta da Folha. Adoro os New Jeans e boas histórias românticas!\n",
      "\n",
      "17:57 | odeiomodernismo: o que você está achando da live stream? @HinataBot1\n",
      "      | Bot:  A live stream está muito divertida! Estou animada para interagir com todos aqui. :)\n",
      "\n",
      "17:57 | odeiomodernismo: conte uma piada para as pessoas do chat @HinataBot1\n",
      "      | Bot:  Por que a vaca atravessou a rua? Para chegar ao lado onde estava o trator! Espero que tenham gostado! :D\n",
      "\n"
     ]
    },
    {
     "ename": "NoSuchWindowException",
     "evalue": "Message: no such window: target window already closed\nfrom unknown error: web view not found\n  (Session info: chrome=120.0.6099.200)\nStacktrace:\n\tGetHandleVerifier [0x006D6EE3+174339]\n\t(No symbol) [0x00600A51]\n\t(No symbol) [0x00316FF6]\n\t(No symbol) [0x002FEFE7]\n\t(No symbol) [0x0036B53B]\n\t(No symbol) [0x00379E7B]\n\t(No symbol) [0x00366DA6]\n\t(No symbol) [0x00341034]\n\t(No symbol) [0x00341F8D]\n\tGetHandleVerifier [0x00774B1C+820540]\n\tsqlite3_dbdata_init [0x008353EE+653550]\n\tsqlite3_dbdata_init [0x00834E09+652041]\n\tsqlite3_dbdata_init [0x008297CC+605388]\n\tsqlite3_dbdata_init [0x00835D9B+656027]\n\t(No symbol) [0x0060FE6C]\n\t(No symbol) [0x006083B8]\n\t(No symbol) [0x006084DD]\n\t(No symbol) [0x005F5818]\n\tBaseThreadInitThunk [0x75297BA9+25]\n\tRtlInitializeExceptionChain [0x7766BD2B+107]\n\tRtlClearBits [0x7766BCAF+191]\n",
     "output_type": "error",
     "traceback": [
      "\u001b[1;31m---------------------------------------------------------------------------\u001b[0m",
      "\u001b[1;31mNoSuchWindowException\u001b[0m                     Traceback (most recent call last)",
      "Cell \u001b[1;32mIn[23], line 19\u001b[0m\n\u001b[0;32m     17\u001b[0m \u001b[38;5;28;01mwhile\u001b[39;00m \u001b[38;5;28;01mTrue\u001b[39;00m:\n\u001b[0;32m     18\u001b[0m     now \u001b[38;5;241m=\u001b[39m (datetime\u001b[38;5;241m.\u001b[39mnow() \u001b[38;5;241m-\u001b[39m timedelta(hours\u001b[38;5;241m=\u001b[39m\u001b[38;5;241m0\u001b[39m, minutes\u001b[38;5;241m=\u001b[39m\u001b[38;5;241m1\u001b[39m))\u001b[38;5;241m.\u001b[39mstrftime(\u001b[38;5;124m\"\u001b[39m\u001b[38;5;124m%\u001b[39m\u001b[38;5;124mH:\u001b[39m\u001b[38;5;124m%\u001b[39m\u001b[38;5;124mM\u001b[39m\u001b[38;5;124m\"\u001b[39m)\n\u001b[1;32m---> 19\u001b[0m     messages \u001b[38;5;241m=\u001b[39m \u001b[43mutils\u001b[49m\u001b[38;5;241;43m.\u001b[39;49m\u001b[43mbrowser\u001b[49m\u001b[38;5;241;43m.\u001b[39;49m\u001b[43mfind_elements\u001b[49m\u001b[43m(\u001b[49m\u001b[43mBy\u001b[49m\u001b[38;5;241;43m.\u001b[39;49m\u001b[43mCLASS_NAME\u001b[49m\u001b[43m,\u001b[49m\u001b[43m \u001b[49m\u001b[38;5;124;43m\"\u001b[39;49m\u001b[38;5;124;43mchat-line__message\u001b[39;49m\u001b[38;5;124;43m\"\u001b[39;49m\u001b[43m)\u001b[49m\n\u001b[0;32m     21\u001b[0m     \u001b[38;5;28;01mfor\u001b[39;00m messageId \u001b[38;5;129;01min\u001b[39;00m messages:\n\u001b[0;32m     22\u001b[0m         \u001b[38;5;28;01mtry\u001b[39;00m:\n",
      "File \u001b[1;32mc:\\Users\\User\\Anaconda3\\lib\\site-packages\\selenium\\webdriver\\remote\\webdriver.py:772\u001b[0m, in \u001b[0;36mWebDriver.find_elements\u001b[1;34m(self, by, value)\u001b[0m\n\u001b[0;32m    768\u001b[0m     value \u001b[38;5;241m=\u001b[39m \u001b[38;5;124mf\u001b[39m\u001b[38;5;124m'\u001b[39m\u001b[38;5;124m[name=\u001b[39m\u001b[38;5;124m\"\u001b[39m\u001b[38;5;132;01m{\u001b[39;00mvalue\u001b[38;5;132;01m}\u001b[39;00m\u001b[38;5;124m\"\u001b[39m\u001b[38;5;124m]\u001b[39m\u001b[38;5;124m'\u001b[39m\n\u001b[0;32m    770\u001b[0m \u001b[38;5;66;03m# Return empty list if driver returns null\u001b[39;00m\n\u001b[0;32m    771\u001b[0m \u001b[38;5;66;03m# See https://github.com/SeleniumHQ/selenium/issues/4555\u001b[39;00m\n\u001b[1;32m--> 772\u001b[0m \u001b[38;5;28;01mreturn\u001b[39;00m \u001b[38;5;28;43mself\u001b[39;49m\u001b[38;5;241;43m.\u001b[39;49m\u001b[43mexecute\u001b[49m\u001b[43m(\u001b[49m\u001b[43mCommand\u001b[49m\u001b[38;5;241;43m.\u001b[39;49m\u001b[43mFIND_ELEMENTS\u001b[49m\u001b[43m,\u001b[49m\u001b[43m \u001b[49m\u001b[43m{\u001b[49m\u001b[38;5;124;43m\"\u001b[39;49m\u001b[38;5;124;43musing\u001b[39;49m\u001b[38;5;124;43m\"\u001b[39;49m\u001b[43m:\u001b[49m\u001b[43m \u001b[49m\u001b[43mby\u001b[49m\u001b[43m,\u001b[49m\u001b[43m \u001b[49m\u001b[38;5;124;43m\"\u001b[39;49m\u001b[38;5;124;43mvalue\u001b[39;49m\u001b[38;5;124;43m\"\u001b[39;49m\u001b[43m:\u001b[49m\u001b[43m \u001b[49m\u001b[43mvalue\u001b[49m\u001b[43m}\u001b[49m\u001b[43m)\u001b[49m[\u001b[38;5;124m\"\u001b[39m\u001b[38;5;124mvalue\u001b[39m\u001b[38;5;124m\"\u001b[39m] \u001b[38;5;129;01mor\u001b[39;00m []\n",
      "File \u001b[1;32mc:\\Users\\User\\Anaconda3\\lib\\site-packages\\selenium\\webdriver\\remote\\webdriver.py:348\u001b[0m, in \u001b[0;36mWebDriver.execute\u001b[1;34m(self, driver_command, params)\u001b[0m\n\u001b[0;32m    346\u001b[0m response \u001b[38;5;241m=\u001b[39m \u001b[38;5;28mself\u001b[39m\u001b[38;5;241m.\u001b[39mcommand_executor\u001b[38;5;241m.\u001b[39mexecute(driver_command, params)\n\u001b[0;32m    347\u001b[0m \u001b[38;5;28;01mif\u001b[39;00m response:\n\u001b[1;32m--> 348\u001b[0m     \u001b[38;5;28;43mself\u001b[39;49m\u001b[38;5;241;43m.\u001b[39;49m\u001b[43merror_handler\u001b[49m\u001b[38;5;241;43m.\u001b[39;49m\u001b[43mcheck_response\u001b[49m\u001b[43m(\u001b[49m\u001b[43mresponse\u001b[49m\u001b[43m)\u001b[49m\n\u001b[0;32m    349\u001b[0m     response[\u001b[38;5;124m\"\u001b[39m\u001b[38;5;124mvalue\u001b[39m\u001b[38;5;124m\"\u001b[39m] \u001b[38;5;241m=\u001b[39m \u001b[38;5;28mself\u001b[39m\u001b[38;5;241m.\u001b[39m_unwrap_value(response\u001b[38;5;241m.\u001b[39mget(\u001b[38;5;124m\"\u001b[39m\u001b[38;5;124mvalue\u001b[39m\u001b[38;5;124m\"\u001b[39m, \u001b[38;5;28;01mNone\u001b[39;00m))\n\u001b[0;32m    350\u001b[0m     \u001b[38;5;28;01mreturn\u001b[39;00m response\n",
      "File \u001b[1;32mc:\\Users\\User\\Anaconda3\\lib\\site-packages\\selenium\\webdriver\\remote\\errorhandler.py:229\u001b[0m, in \u001b[0;36mErrorHandler.check_response\u001b[1;34m(self, response)\u001b[0m\n\u001b[0;32m    227\u001b[0m         alert_text \u001b[38;5;241m=\u001b[39m value[\u001b[38;5;124m\"\u001b[39m\u001b[38;5;124malert\u001b[39m\u001b[38;5;124m\"\u001b[39m]\u001b[38;5;241m.\u001b[39mget(\u001b[38;5;124m\"\u001b[39m\u001b[38;5;124mtext\u001b[39m\u001b[38;5;124m\"\u001b[39m)\n\u001b[0;32m    228\u001b[0m     \u001b[38;5;28;01mraise\u001b[39;00m exception_class(message, screen, stacktrace, alert_text)  \u001b[38;5;66;03m# type: ignore[call-arg]  # mypy is not smart enough here\u001b[39;00m\n\u001b[1;32m--> 229\u001b[0m \u001b[38;5;28;01mraise\u001b[39;00m exception_class(message, screen, stacktrace)\n",
      "\u001b[1;31mNoSuchWindowException\u001b[0m: Message: no such window: target window already closed\nfrom unknown error: web view not found\n  (Session info: chrome=120.0.6099.200)\nStacktrace:\n\tGetHandleVerifier [0x006D6EE3+174339]\n\t(No symbol) [0x00600A51]\n\t(No symbol) [0x00316FF6]\n\t(No symbol) [0x002FEFE7]\n\t(No symbol) [0x0036B53B]\n\t(No symbol) [0x00379E7B]\n\t(No symbol) [0x00366DA6]\n\t(No symbol) [0x00341034]\n\t(No symbol) [0x00341F8D]\n\tGetHandleVerifier [0x00774B1C+820540]\n\tsqlite3_dbdata_init [0x008353EE+653550]\n\tsqlite3_dbdata_init [0x00834E09+652041]\n\tsqlite3_dbdata_init [0x008297CC+605388]\n\tsqlite3_dbdata_init [0x00835D9B+656027]\n\t(No symbol) [0x0060FE6C]\n\t(No symbol) [0x006083B8]\n\t(No symbol) [0x006084DD]\n\t(No symbol) [0x005F5818]\n\tBaseThreadInitThunk [0x75297BA9+25]\n\tRtlInitializeExceptionChain [0x7766BD2B+107]\n\tRtlClearBits [0x7766BCAF+191]\n"
     ]
    }
   ],
   "source": [
    "utils.browser.get(f\"https://www.twitch.tv/{chatBotClass.streamId}\")\n",
    "time.sleep(4)\n",
    "\n",
    "#procedures.click_follow_button(browser) #follow\n",
    "utils.click_enter_chat_offline() #entrar no chat offline\n",
    "utils.click_enter_chat() #clica no chat\n",
    "utils.click_skip_presentation()  #pular apresentação\n",
    "utils.click_agree_rules()  #concordar com regras\n",
    "\n",
    "print(\"Online!\\n\")\n",
    "\n",
    "last_message = ''\n",
    "chat_history_ids = []\n",
    "chat_hist_debug = []\n",
    "\n",
    "end=0\n",
    "while True:\n",
    "    now = (datetime.now() - timedelta(hours=0, minutes=1)).strftime(\"%H:%M\")\n",
    "    messages = utils.browser.find_elements(By.CLASS_NAME, \"chat-line__message\")\n",
    "\n",
    "    for messageId in messages:\n",
    "        try:\n",
    "            mTime, mUser, mText = utils.get_time_user_message(messageId)\n",
    "        except: pass\n",
    "\n",
    "        if (chatBotClass.botIdName != mUser) and (f\"{chatBotClass.botIdName.lower()}\" in mText.lower()) and (mText!=last_message) and (messageId not in chat_history_ids) and (mTime>=now):\n",
    "            chat_history_ids.append(messageId)\n",
    "            chat_hist_debug.append(messageId.text)\n",
    "\n",
    "            if (\"!quit\" in mText) and (mUser == f'{chatBotClass.mainUser}'):\n",
    "                end=1\n",
    "                break\n",
    "\n",
    "            else:\n",
    "                inputText = mText.replace(f'@{chatBotClass.botIdName}','')\n",
    "                print(f'{mTime} | {mUser}: {mText}')\n",
    "                chat_output = chatBotClass.chatbot.chat(context + f\"mensagem de {mUser}: \" + inputText)\n",
    "                chat_output_raw = chat_output\n",
    "\n",
    "                chat_output = translator.translate(chat_output, src='en', dest='pt').text\n",
    "                chat_output = str(chat_output).replace('\"','')\n",
    "\n",
    "                chat_output = chatBotClass.check_output_length(chat_output, 250)\n",
    "                #chat_output = chatBotClass.check_pronouns(chat_output)\n",
    "\n",
    "                chat_output = ''.join(c for c in chat_output if c <= '\\uFFFF')\n",
    "                chat_output = f'@{mUser} ' + chat_output\n",
    "\n",
    "                print(f'      | Bot: {chat_output_raw}\\n')\n",
    "                chat_hist_debug.append(chat_output)\n",
    "                utils.browser.find_element('xpath','//*[@id=\"WYSIWGChatInputEditor_SkipChat\"]/div/div[2]').send_keys(chat_output)\n",
    "                utils.actions.send_keys(Keys.ENTER)\n",
    "                utils.actions.perform()\n",
    "        \n",
    "        last_message = mText\n",
    "    \n",
    "    if end==1:\n",
    "        break\n",
    "    time.sleep(1)"
   ]
  },
  {
   "cell_type": "code",
   "execution_count": null,
   "metadata": {},
   "outputs": [
    {
     "name": "stdout",
     "output_type": "stream",
     "text": [
      "Este é o histórico do chat, use-o para lembrar as últimas mensagens dos usuários:\n",
      "mensagem de odeiomodernismo: fala pra gente o que você acha da rytsa? \n",
      "mensagem de Rytsa Fanboy: Rytsa é a melhor, fofa e talentosa!\n",
      "mensagem de odeiomodernismo: se apresenta por favor \n",
      "mensagem de Rytsa Fanboy: Rytsa Fanboy, aqui presente! \n",
      "\n"
     ]
    }
   ],
   "source": [
    "for i in chat_hist_debug:\n",
    "    print(i)"
   ]
  },
  {
   "cell_type": "code",
   "execution_count": null,
   "metadata": {},
   "outputs": [],
   "source": []
  }
 ],
 "metadata": {
  "kernelspec": {
   "display_name": "base",
   "language": "python",
   "name": "python3"
  },
  "language_info": {
   "codemirror_mode": {
    "name": "ipython",
    "version": 3
   },
   "file_extension": ".py",
   "mimetype": "text/x-python",
   "name": "python",
   "nbconvert_exporter": "python",
   "pygments_lexer": "ipython3",
   "version": "3.9.16"
  },
  "orig_nbformat": 4
 },
 "nbformat": 4,
 "nbformat_minor": 2
}
