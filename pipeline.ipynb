{
 "cells": [
  {
   "cell_type": "code",
   "execution_count": 1,
   "metadata": {},
   "outputs": [],
   "source": [
    "import time\n",
    "from datetime import datetime, timedelta\n",
    "import os\n",
    "\n",
    "from Utils.class_files import Chatbot, Utils\n",
    "\n",
    "from googletrans import Translator\n",
    "translator = Translator()\n",
    "\n",
    "from selenium.webdriver.common.by import By\n",
    "from selenium.webdriver.common.keys import Keys"
   ]
  },
  {
   "cell_type": "code",
   "execution_count": 2,
   "metadata": {},
   "outputs": [],
   "source": [
    "#browser + utils\n",
    "utils = Utils(language='pt')\n",
    "\n",
    "#Chatbot\n",
    "chatBotClass = Chatbot(botIdName = 'HinataBot1'\n",
    "                 ,botName = 'Hinata Hyuga'\n",
    "                 ,fileName = 'hinata.txt'\n",
    "                 ,streamId= 'HinataBot1'\n",
    "                 ,pronouns = 'feminino'\n",
    "                 ,mainUser = 'odeiomodernismo'\n",
    "                 \n",
    "                 ,utils_class = utils)\n",
    "context = chatBotClass.get_context_prompt()"
   ]
  },
  {
   "cell_type": "code",
   "execution_count": 3,
   "metadata": {},
   "outputs": [
    {
     "name": "stdout",
     "output_type": "stream",
     "text": [
      "Online!\n",
      "\n",
      "08:25 | odeiomodernismo: @hinatabot1 oii\n",
      "      | Bot:  Hey there! I'm Hinata Hyuga, a gentle and determined woman from the Hidden Leaf Village. I'm a big fan of the New Jeans K-pop group because they're so cute! I'm also a Christian and my faith is very important to me. I love watching romantic movies and reading books set in the 19th and 18th centuries. And of course, I can't forget about my beloved nandinha! 🐰❤️\n",
      "\n",
      "08:26 | odeiomodernismo: oii @hinatabot1\n",
      "      | Bot:  Hi! I'm Hinata Hyuga, a kind and determined woman from the Hidden Leaf Village. I'm a big fan of the New Jeans K-pop group because they're so cute! I'm also a Christian and my faith is very important to me. I love watching romantic movies and reading books set in the 19th and 18th centuries. And of course, I can't forget about my beloved nandinha! 🐰❤️\n",
      "\n",
      "08:26 | odeiomodernismo: o que você acha do Jean @HinataBot1 ?\n",
      "      | Bot:  Oh, eu adoro o Jean! Ele é tão fofo e carinhoso, Always making me smile. Eu poderia ficar horas olhando para ele e nunca me cansaria. Ele é o meu mundo! 💕😍\n",
      "\n",
      "08:27 | odeiomodernismo: o jean está jogando league of legends @HinataBot1\n",
      "      | Bot:  Oh, that's great! I'm glad to hear that Jean is enjoying League of Legends. He's such a talented player, and it's always fun to watch him in action. I'm sure he'll do amazing in the game! 😄👏\n",
      "\n",
      "08:28 | odeiomodernismo: @HinataBot1 dê oi para seus novos amigos\n",
      "      | Bot:  Hey there, new friends! 😊 I'm so happy to meet you all! 🎉 I hope we can have lots of fun together and create some amazing memories! 😄 What do you guys like to do for fun? 🤔 Let's chat and get to know each other better! 💬\n",
      "\n"
     ]
    }
   ],
   "source": [
    "utils.browser.get(f\"https://www.twitch.tv/{chatBotClass.streamId}\")\n",
    "time.sleep(4)\n",
    "\n",
    "#procedures.click_follow_button(browser) #follow\n",
    "utils.click_enter_chat_offline() #entrar no chat offline\n",
    "utils.click_enter_chat() #clica no chat\n",
    "utils.click_skip_presentation()  #pular apresentação\n",
    "utils.click_agree_rules()  #concordar com regras\n",
    "\n",
    "print(\"Online!\\n\")\n",
    "\n",
    "last_message = ''\n",
    "chat_history_ids = []\n",
    "chat_hist_debug = []\n",
    "\n",
    "end=0\n",
    "while True:\n",
    "    now = (datetime.now() - timedelta(hours=0, minutes=1)).strftime(\"%H:%M\")\n",
    "    messages = utils.browser.find_elements(By.CLASS_NAME, \"chat-line__message\")\n",
    "\n",
    "    for messageId in messages:\n",
    "        try:\n",
    "            mTime, mUser, mText = utils.get_time_user_message(messageId)\n",
    "        except: pass\n",
    "\n",
    "        if (chatBotClass.botIdName != mUser) and (f\"{chatBotClass.botIdName.lower()}\" in mText.lower()) and (mText!=last_message) and (messageId not in chat_history_ids) and (mTime>=now):\n",
    "            chat_history_ids.append(messageId)\n",
    "            chat_hist_debug.append(messageId.text)\n",
    "\n",
    "            if (\"!quit\" in mText) and (mUser == f'{chatBotClass.mainUser}'):\n",
    "                end=1\n",
    "                break\n",
    "\n",
    "            else:\n",
    "                inputText = mText.replace(f'@{chatBotClass.botIdName}','')\n",
    "                print(f'{mTime} | {mUser}: {mText}')\n",
    "                chat_output = chatBotClass.chatbot.chat(context + f\"mensagem de {mUser}: \" + inputText)\n",
    "                chat_output_raw = chat_output\n",
    "\n",
    "                chat_output = translator.translate(chat_output, src='en', dest='pt').text\n",
    "                chat_output = str(chat_output).replace('\"','')\n",
    "\n",
    "                chat_output = chatBotClass.check_output_length(chat_output, 250)\n",
    "                chat_output = chatBotClass.check_pronouns(chat_output)\n",
    "\n",
    "                chat_output = ''.join(c for c in chat_output if c <= '\\uFFFF')\n",
    "                chat_output = f'@{mUser} ' + chat_output\n",
    "\n",
    "                print(f'      | Bot: {chat_output_raw}\\n')\n",
    "                chat_hist_debug.append(chat_output)\n",
    "                utils.browser.find_element('xpath','//*[@id=\"WYSIWGChatInputEditor_SkipChat\"]/div/div[2]').send_keys(chat_output)\n",
    "                utils.actions.send_keys(Keys.ENTER)\n",
    "                utils.actions.perform()\n",
    "        \n",
    "        last_message = mText\n",
    "    \n",
    "    if end==1:\n",
    "        break\n",
    "    time.sleep(1)"
   ]
  },
  {
   "cell_type": "code",
   "execution_count": null,
   "metadata": {},
   "outputs": [
    {
     "name": "stdout",
     "output_type": "stream",
     "text": [
      "Este é o histórico do chat, use-o para lembrar as últimas mensagens dos usuários:\n",
      "mensagem de odeiomodernismo: fala pra gente o que você acha da rytsa? \n",
      "mensagem de Rytsa Fanboy: Rytsa é a melhor, fofa e talentosa!\n",
      "mensagem de odeiomodernismo: se apresenta por favor \n",
      "mensagem de Rytsa Fanboy: Rytsa Fanboy, aqui presente! \n",
      "\n"
     ]
    }
   ],
   "source": [
    "for i in chat_hist_debug:\n",
    "    print(i)"
   ]
  },
  {
   "cell_type": "code",
   "execution_count": null,
   "metadata": {},
   "outputs": [],
   "source": []
  }
 ],
 "metadata": {
  "kernelspec": {
   "display_name": "base",
   "language": "python",
   "name": "python3"
  },
  "language_info": {
   "codemirror_mode": {
    "name": "ipython",
    "version": 3
   },
   "file_extension": ".py",
   "mimetype": "text/x-python",
   "name": "python",
   "nbconvert_exporter": "python",
   "pygments_lexer": "ipython3",
   "version": "3.9.16"
  },
  "orig_nbformat": 4
 },
 "nbformat": 4,
 "nbformat_minor": 2
}
